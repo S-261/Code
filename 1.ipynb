{
 "cells": [
  {
   "cell_type": "markdown",
   "id": "a7ba3742",
   "metadata": {},
   "source": [
    "## Library Imports"
   ]
  },
  {
   "cell_type": "code",
   "execution_count": 1,
   "id": "f06cc544",
   "metadata": {},
   "outputs": [],
   "source": [
    "import numpy as np\n",
    "import cv2\n",
    "from sklearn.preprocessing import StandardScaler\n",
    "from PIL import Image\n",
    "import os\n",
    "import random"
   ]
  },
  {
   "cell_type": "markdown",
   "id": "1fa56262",
   "metadata": {},
   "source": [
    "## Image Matrix Construction (Constructing A)"
   ]
  },
  {
   "cell_type": "code",
   "execution_count": 2,
   "id": "34a957b6",
   "metadata": {},
   "outputs": [],
   "source": [
    "def create_vec(location, count_of_same_celebrity=40):\n",
    "    '''\n",
    "    Create a random vectorized array with 'n' number of images of each celebrity\n",
    "\n",
    "    location: location of the master folder\n",
    "    count_of_same_celebrity: number of random images taken of the same celebrity\n",
    "    '''\n",
    "    # Create an empty list to store arrays\n",
    "    img_arrays = []\n",
    "\n",
    "    for celeb in os.listdir(location):\n",
    "        celeb_path = os.path.join(location, celeb)\n",
    "        if not os.path.isdir(celeb_path):\n",
    "            continue  # Skip if the item in the directory is not a folder\n",
    "\n",
    "        files = [f for f in os.listdir(celeb_path) if os.path.isfile(os.path.join(celeb_path, f))]\n",
    "\n",
    "        # Use min() to avoid going beyond the available indices\n",
    "        selected_files = random.sample(files, min(len(files), count_of_same_celebrity))\n",
    "\n",
    "        for selected_file in selected_files:\n",
    "            face_path = os.path.join(celeb_path, selected_file)\n",
    "\n",
    "            # Open and resize the face image\n",
    "            face_image = Image.open(face_path).convert(\"L\")  # Convert to grayscale\n",
    "            resized_face_image = face_image.resize((20, 20))\n",
    "            img_array = np.array(resized_face_image).flatten()\n",
    "            img_arrays.append(img_array)\n",
    "\n",
    "    # Convert the list of arrays into a NumPy array\n",
    "    img_matrix = np.transpose(img_arrays)\n",
    "\n",
    "    return img_matrix\n",
    "\n",
    "\n",
    "A = create_vec('Cropped Celebrity Faces Dataset')"
   ]
  },
  {
   "cell_type": "code",
   "execution_count": 3,
   "id": "015bcd78",
   "metadata": {},
   "outputs": [
    {
     "name": "stdout",
     "output_type": "stream",
     "text": [
      "n = 400\n",
      "m = 680\n"
     ]
    }
   ],
   "source": [
    "n = A.shape[0]\n",
    "m = A.shape[1]\n",
    "print(\"n =\", n)\n",
    "print(\"m =\", m)"
   ]
  },
  {
   "cell_type": "code",
   "execution_count": 4,
   "id": "9a73a62d",
   "metadata": {},
   "outputs": [],
   "source": [
    "mean = np.mean(A, axis=1, keepdims=True)\n",
    "B = A - mean"
   ]
  },
  {
   "cell_type": "markdown",
   "id": "f456454b",
   "metadata": {},
   "source": [
    "## The matrix S"
   ]
  },
  {
   "cell_type": "code",
   "execution_count": 5,
   "id": "6d93a73b",
   "metadata": {},
   "outputs": [
    {
     "data": {
      "text/plain": [
       "(400, 400)"
      ]
     },
     "execution_count": 5,
     "metadata": {},
     "output_type": "execute_result"
    }
   ],
   "source": [
    "S = 1/m * B @ B.T\n",
    "S.shape"
   ]
  },
  {
   "cell_type": "markdown",
   "id": "b5df39b1",
   "metadata": {},
   "source": [
    "## Zhang et al. Encryption"
   ]
  },
  {
   "cell_type": "code",
   "execution_count": 6,
   "id": "0d53c88a",
   "metadata": {},
   "outputs": [
    {
     "data": {
      "text/plain": [
       "(800, 800)"
      ]
     },
     "execution_count": 6,
     "metadata": {},
     "output_type": "execute_result"
    }
   ],
   "source": [
    "from scipy.sparse import rand\n",
    "\n",
    "alpha = np.random.rand()\n",
    "gamma = np.random.rand()\n",
    "G = np.triu(np.random.rand(n, n), 0)  #Generating Random Upper Triangular Matrix G\n",
    "\n",
    "S1 = alpha * S + gamma * np.eye(n)\n",
    "U = np.block([[S1, np.zeros((n,n))], [np.zeros((n,n)), G]])\n",
    "\n",
    "P = np.eye(2 * n)\n",
    "\n",
    "for k in range(1, 2 * n + 1):\n",
    "    C = np.eye(2 * n)\n",
    "    j = np.random.randint(2 * n - 1)\n",
    "    i = np.random.randint(j + 1, 2 * n)\n",
    "    C[i, j] = np.random.rand()          #Creates elementary matrices\n",
    "    P = np.dot(P, C)                    #Product of Elementary Matrices\n",
    "\n",
    "\n",
    "U1 = P @ U @ np.linalg.inv(P)           #Final encrypted form \n",
    "U1.shape"
   ]
  },
  {
   "cell_type": "markdown",
   "id": "3eccfd58",
   "metadata": {},
   "source": [
    "## Eigendecomposition "
   ]
  },
  {
   "cell_type": "code",
   "execution_count": 7,
   "id": "177d527f",
   "metadata": {},
   "outputs": [
    {
     "data": {
      "text/plain": [
       "(800, 800)"
      ]
     },
     "execution_count": 7,
     "metadata": {},
     "output_type": "execute_result"
    }
   ],
   "source": [
    "# D=Eigenvalues V=Eigenvectors\n",
    "D , V = np.linalg.eig(U1)\n",
    "D1=np.diag(D)\n",
    "D1.shape"
   ]
  },
  {
   "cell_type": "markdown",
   "id": "efa5ca3e",
   "metadata": {},
   "source": [
    "## Verification"
   ]
  },
  {
   "cell_type": "code",
   "execution_count": 9,
   "id": "62665a49",
   "metadata": {},
   "outputs": [
    {
     "name": "stdin",
     "output_type": "stream",
     "text": [
      "No. of trials 1\n"
     ]
    },
    {
     "name": "stdout",
     "output_type": "stream",
     "text": [
      "Verification failed\n"
     ]
    }
   ],
   "source": [
    "l=int(input('No. of trials'))\n",
    "\n",
    "for i in range(l):\n",
    "    e = np.random.choice([0, 1], size=(V.shape[0]))\n",
    "    n2 = np.linalg.norm(V @ (D1 @ (V.T @ e)) - U1 @ e)\n",
    "    \n",
    "    if n2 >= 1e-4:\n",
    "        print(\"Verification failed\")\n",
    "        break\n",
    "    \n",
    "else:\n",
    "    print(\"Verification successful for all trials\")"
   ]
  },
  {
   "cell_type": "markdown",
   "id": "16fcec62",
   "metadata": {},
   "source": [
    "### It can be seen that the verification has failed. It is because U1 cannot be decomposed as V@D1@V.T as U1 is not symmetric. Here is the confirmation"
   ]
  },
  {
   "cell_type": "code",
   "execution_count": 10,
   "id": "73936dbf-dd2e-48f0-9cd4-ee0b65d2d0af",
   "metadata": {},
   "outputs": [
    {
     "data": {
      "text/plain": [
       "False"
      ]
     },
     "execution_count": 10,
     "metadata": {},
     "output_type": "execute_result"
    }
   ],
   "source": [
    "np.array_equal(U, U.T)"
   ]
  },
  {
   "cell_type": "markdown",
   "id": "60920e88-a2ce-4dff-aa13-dc6c7877d0bf",
   "metadata": {},
   "source": [
    "### It shows that U is not equal to its transpose U.T . To solidify the argument, lets check the difference between V @ D1 @ V.T and U1."
   ]
  },
  {
   "cell_type": "code",
   "execution_count": 11,
   "id": "bb530788",
   "metadata": {},
   "outputs": [
    {
     "data": {
      "text/plain": [
       "38775.836785060135"
      ]
     },
     "execution_count": 11,
     "metadata": {},
     "output_type": "execute_result"
    }
   ],
   "source": [
    "error1 = np.linalg.norm(V @ D1 @ V.T - U1)\n",
    "error1"
   ]
  },
  {
   "cell_type": "markdown",
   "id": "ed7f5015",
   "metadata": {},
   "source": [
    "## Zhang et al. Encryption with the proposed fix"
   ]
  },
  {
   "cell_type": "markdown",
   "id": "5fbce77c",
   "metadata": {},
   "source": [
    "### Generation of U3 (The encrypted matrix after implemetning the fix)"
   ]
  },
  {
   "cell_type": "code",
   "execution_count": 12,
   "id": "c8040e69",
   "metadata": {},
   "outputs": [],
   "source": [
    "alpha1 = np.random.rand()\n",
    "gamma1 = np.random.rand()\n",
    "\n",
    "G1 = np.diag(np.random.rand(n))            #G is taken as a diagonal matrix instead of upper triangular\n",
    "S2 = alpha1 * S + gamma1 * np.eye(n)\n",
    "U2 = np.block([[S2, np.zeros((n,n))], [np.zeros((n,n)), G1]])\n",
    "\n",
    "# Multiplying orthogonal matrices\n",
    "from scipy.sparse import rand\n",
    "u1 = rand(2*S.shape[0], 1);\n",
    "u1 = u1.toarray();\n",
    "u1 = u1 / np.linalg.norm(u1)\n",
    "P1 = np.identity(2*S.shape[0]) - 2 * (u1 @ u1.T)    #The produc of elementary matrices are replaced by orthogonal matrices\n",
    "U3 = P1 @ U2 @ P1.T                                 #Final encrypted version after the fix"
   ]
  },
  {
   "cell_type": "markdown",
   "id": "88f36609",
   "metadata": {},
   "source": [
    "### Performing Eigendecomposition after the fix "
   ]
  },
  {
   "cell_type": "code",
   "execution_count": 13,
   "id": "9ff6e2be",
   "metadata": {},
   "outputs": [
    {
     "data": {
      "text/plain": [
       "(800, 800)"
      ]
     },
     "execution_count": 13,
     "metadata": {},
     "output_type": "execute_result"
    }
   ],
   "source": [
    "# D=Eigenvalues V=Eigenvectors\n",
    "D2 , V1 = np.linalg.eig(U3)\n",
    "D3=np.diag(D2)\n",
    "D3.shape"
   ]
  },
  {
   "cell_type": "markdown",
   "id": "70455e84",
   "metadata": {},
   "source": [
    "### Confirming with the Verification step"
   ]
  },
  {
   "cell_type": "code",
   "execution_count": 14,
   "id": "3d425a74",
   "metadata": {},
   "outputs": [
    {
     "name": "stdin",
     "output_type": "stream",
     "text": [
      "No. of trials 80\n"
     ]
    },
    {
     "name": "stdout",
     "output_type": "stream",
     "text": [
      "Verification successful for all trials\n"
     ]
    }
   ],
   "source": [
    "l=int(input('No. of trials'))\n",
    "\n",
    "for i in range(l):\n",
    "    e1 = np.random.choice([0, 1], size=(V.shape[0]))\n",
    "    n1 = np.linalg.norm(V1 @ (D3 @ (V1.T @ e1)) - U3 @ e1)\n",
    "    \n",
    "    if n1 >= 1e-4:\n",
    "        print(\"Verification failed\")\n",
    "        break\n",
    "    \n",
    "else:\n",
    "    print(\"Verification successful for all trials\")"
   ]
  },
  {
   "cell_type": "markdown",
   "id": "0af18b77",
   "metadata": {},
   "source": [
    "### New Error Calculation"
   ]
  },
  {
   "cell_type": "code",
   "execution_count": 15,
   "id": "c4c6e6d7",
   "metadata": {},
   "outputs": [
    {
     "data": {
      "text/plain": [
       "1.7984807413652258e-09"
      ]
     },
     "execution_count": 15,
     "metadata": {},
     "output_type": "execute_result"
    }
   ],
   "source": [
    "error2 = np.linalg.norm(V1 @ D3 @ V1.T - U3)\n",
    "error2"
   ]
  },
  {
   "cell_type": "markdown",
   "id": "d4ef0633-b848-4e94-93ea-d069ef7fac84",
   "metadata": {},
   "source": [
    "## To cement the argument further, We claim U3 is now symmetric after the fix. Here's the confirmation \n"
   ]
  },
  {
   "cell_type": "code",
   "execution_count": 16,
   "id": "b25d5f9b-71a6-4b52-9b18-f35b502adb82",
   "metadata": {},
   "outputs": [
    {
     "data": {
      "text/plain": [
       "array([[ True,  True,  True, ...,  True,  True,  True],\n",
       "       [ True,  True,  True, ...,  True,  True,  True],\n",
       "       [ True,  True,  True, ...,  True,  True,  True],\n",
       "       ...,\n",
       "       [ True,  True,  True, ...,  True,  True,  True],\n",
       "       [ True,  True,  True, ...,  True,  True,  True],\n",
       "       [ True,  True,  True, ...,  True,  True,  True]])"
      ]
     },
     "execution_count": 16,
     "metadata": {},
     "output_type": "execute_result"
    }
   ],
   "source": [
    "np.equal(U3,U3.T)"
   ]
  },
  {
   "cell_type": "code",
   "execution_count": null,
   "id": "04eb51a8-6a8e-460f-b133-0ef7dd13a0f0",
   "metadata": {},
   "outputs": [],
   "source": []
  }
 ],
 "metadata": {
  "kernelspec": {
   "display_name": "Python 3 (ipykernel)",
   "language": "python",
   "name": "python3"
  },
  "language_info": {
   "codemirror_mode": {
    "name": "ipython",
    "version": 3
   },
   "file_extension": ".py",
   "mimetype": "text/x-python",
   "name": "python",
   "nbconvert_exporter": "python",
   "pygments_lexer": "ipython3",
   "version": "3.11.7"
  }
 },
 "nbformat": 4,
 "nbformat_minor": 5
}
